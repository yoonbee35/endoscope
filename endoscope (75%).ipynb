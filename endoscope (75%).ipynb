{
 "cells": [
  {
   "cell_type": "code",
   "execution_count": 1,
   "metadata": {},
   "outputs": [
    {
     "name": "stderr",
     "output_type": "stream",
     "text": [
      "Using TensorFlow backend.\n"
     ]
    }
   ],
   "source": [
    "import numpy as np\n",
    "np.random.seed(8)\n",
    "from keras.preprocessing.image import ImageDataGenerator\n"
   ]
  },
  {
   "cell_type": "code",
   "execution_count": 2,
   "metadata": {},
   "outputs": [
    {
     "name": "stdout",
     "output_type": "stream",
     "text": [
      "Found 6400 images belonging to 8 classes.\n",
      "Found 1600 images belonging to 8 classes.\n"
     ]
    }
   ],
   "source": [
    "train_datagen = ImageDataGenerator(rescale=1./255)\n",
    "                                   \n",
    "\n",
    "train_generator = train_datagen.flow_from_directory(\n",
    "        'C:/Users/Owner2/Desktop/deep/train',\n",
    "        target_size=(150, 150),\n",
    "        batch_size=64,\n",
    "        class_mode='categorical')\n",
    "\n",
    "test_datagen = ImageDataGenerator(rescale=1./255)\n",
    "\n",
    "test_generator = test_datagen.flow_from_directory(\n",
    "        'C:/Users/Owner2/Desktop/deep/test',\n",
    "        target_size=(150, 150),    \n",
    "        batch_size=16,\n",
    "        class_mode='categorical')\n",
    "\n",
    "from keras.models import Sequential\n",
    "from keras.layers import Dense\n",
    "from keras.layers import Flatten\n",
    "from keras.layers.convolutional import Conv2D\n",
    "from keras.layers.convolutional import MaxPooling2D"
   ]
  },
  {
   "cell_type": "code",
   "execution_count": 3,
   "metadata": {},
   "outputs": [
    {
     "name": "stderr",
     "output_type": "stream",
     "text": [
      "WARNING: Logging before flag parsing goes to stderr.\n",
      "W1128 05:36:05.846275 12008 deprecation_wrapper.py:119] From C:\\Users\\Owner2\\Anaconda3\\envs\\keras2\\lib\\site-packages\\keras\\backend\\tensorflow_backend.py:74: The name tf.get_default_graph is deprecated. Please use tf.compat.v1.get_default_graph instead.\n",
      "\n",
      "W1128 05:36:05.862584 12008 deprecation_wrapper.py:119] From C:\\Users\\Owner2\\Anaconda3\\envs\\keras2\\lib\\site-packages\\keras\\backend\\tensorflow_backend.py:517: The name tf.placeholder is deprecated. Please use tf.compat.v1.placeholder instead.\n",
      "\n",
      "W1128 05:36:05.865584 12008 deprecation_wrapper.py:119] From C:\\Users\\Owner2\\Anaconda3\\envs\\keras2\\lib\\site-packages\\keras\\backend\\tensorflow_backend.py:4138: The name tf.random_uniform is deprecated. Please use tf.random.uniform instead.\n",
      "\n",
      "W1128 05:36:05.882596 12008 deprecation_wrapper.py:119] From C:\\Users\\Owner2\\Anaconda3\\envs\\keras2\\lib\\site-packages\\keras\\backend\\tensorflow_backend.py:3976: The name tf.nn.max_pool is deprecated. Please use tf.nn.max_pool2d instead.\n",
      "\n"
     ]
    },
    {
     "name": "stdout",
     "output_type": "stream",
     "text": [
      "_________________________________________________________________\n",
      "Layer (type)                 Output Shape              Param #   \n",
      "=================================================================\n",
      "conv2d_1 (Conv2D)            (None, 148, 148, 32)      896       \n",
      "_________________________________________________________________\n",
      "max_pooling2d_1 (MaxPooling2 (None, 74, 74, 32)        0         \n",
      "_________________________________________________________________\n",
      "conv2d_2 (Conv2D)            (None, 72, 72, 64)        18496     \n",
      "_________________________________________________________________\n",
      "max_pooling2d_2 (MaxPooling2 (None, 36, 36, 64)        0         \n",
      "_________________________________________________________________\n",
      "conv2d_3 (Conv2D)            (None, 34, 34, 128)       73856     \n",
      "_________________________________________________________________\n",
      "max_pooling2d_3 (MaxPooling2 (None, 17, 17, 128)       0         \n",
      "_________________________________________________________________\n",
      "flatten_1 (Flatten)          (None, 36992)             0         \n",
      "_________________________________________________________________\n",
      "dense_1 (Dense)              (None, 512)               18940416  \n",
      "_________________________________________________________________\n",
      "dense_2 (Dense)              (None, 8)                 4104      \n",
      "=================================================================\n",
      "Total params: 19,037,768\n",
      "Trainable params: 19,037,768\n",
      "Non-trainable params: 0\n",
      "_________________________________________________________________\n"
     ]
    }
   ],
   "source": [
    "from keras.models import Sequential\n",
    "from keras.layers import Dense\n",
    "from keras.layers import Flatten\n",
    "from keras.layers.convolutional import Conv2D\n",
    "from keras.layers.convolutional import MaxPooling2D\n",
    "\n",
    "from keras.layers import Dropout\n",
    "\n",
    "model = Sequential()\n",
    "model.add(Conv2D(32, kernel_size=(3, 3),\n",
    "                 activation='relu',\n",
    "                 input_shape=(150,150,3)))\n",
    "model.add(MaxPooling2D(pool_size=(2, 2)))\n",
    "model.add(Conv2D(64, (3, 3), activation='relu'))\n",
    "model.add(MaxPooling2D(pool_size=(2, 2)))\n",
    "model.add(Conv2D(128, (3, 3), activation='relu'))\n",
    "model.add(MaxPooling2D(pool_size=(2, 2)))\n",
    "model.add(Flatten())\n",
    "model.add(Dense(512, activation='relu'))\n",
    "model.add(Dense(8, activation='softmax'))\n",
    "\n",
    "model.summary()"
   ]
  },
  {
   "cell_type": "code",
   "execution_count": 4,
   "metadata": {},
   "outputs": [
    {
     "name": "stderr",
     "output_type": "stream",
     "text": [
      "W1128 05:36:13.932813 12008 deprecation_wrapper.py:119] From C:\\Users\\Owner2\\Anaconda3\\envs\\keras2\\lib\\site-packages\\keras\\optimizers.py:790: The name tf.train.Optimizer is deprecated. Please use tf.compat.v1.train.Optimizer instead.\n",
      "\n",
      "W1128 05:36:13.958921 12008 deprecation_wrapper.py:119] From C:\\Users\\Owner2\\Anaconda3\\envs\\keras2\\lib\\site-packages\\keras\\backend\\tensorflow_backend.py:3295: The name tf.log is deprecated. Please use tf.math.log instead.\n",
      "\n"
     ]
    }
   ],
   "source": [
    "model.compile(loss='categorical_crossentropy', optimizer='adam', metrics=['accuracy'])"
   ]
  },
  {
   "cell_type": "code",
   "execution_count": 5,
   "metadata": {
    "scrolled": false
   },
   "outputs": [
    {
     "name": "stderr",
     "output_type": "stream",
     "text": [
      "W1128 05:36:24.389902 12008 deprecation.py:323] From C:\\Users\\Owner2\\Anaconda3\\envs\\keras2\\lib\\site-packages\\tensorflow\\python\\ops\\math_grad.py:1250: add_dispatch_support.<locals>.wrapper (from tensorflow.python.ops.array_ops) is deprecated and will be removed in a future version.\n",
      "Instructions for updating:\n",
      "Use tf.where in 2.0, which has the same broadcast rule as np.where\n",
      "W1128 05:36:24.523208 12008 deprecation_wrapper.py:119] From C:\\Users\\Owner2\\Anaconda3\\envs\\keras2\\lib\\site-packages\\keras\\backend\\tensorflow_backend.py:986: The name tf.assign_add is deprecated. Please use tf.compat.v1.assign_add instead.\n",
      "\n"
     ]
    },
    {
     "name": "stdout",
     "output_type": "stream",
     "text": [
      "Epoch 1/50\n",
      "100/100 [==============================] - 95s 947ms/step - loss: 0.9663 - acc: 0.5952 - val_loss: 0.6956 - val_acc: 0.6625\n",
      "Epoch 2/50\n",
      "100/100 [==============================] - 85s 850ms/step - loss: 0.6407 - acc: 0.7089 - val_loss: 0.6807 - val_acc: 0.6887\n",
      "Epoch 3/50\n",
      "100/100 [==============================] - 86s 859ms/step - loss: 0.5639 - acc: 0.7478 - val_loss: 0.6475 - val_acc: 0.6887\n",
      "Epoch 4/50\n",
      "100/100 [==============================] - 85s 853ms/step - loss: 0.4980 - acc: 0.7827 - val_loss: 0.6391 - val_acc: 0.7450\n",
      "Epoch 5/50\n",
      "100/100 [==============================] - 85s 854ms/step - loss: 0.4284 - acc: 0.8156 - val_loss: 0.5893 - val_acc: 0.7612\n",
      "Epoch 6/50\n",
      "100/100 [==============================] - 86s 859ms/step - loss: 0.3648 - acc: 0.8466 - val_loss: 0.6385 - val_acc: 0.7350\n",
      "Epoch 7/50\n",
      "100/100 [==============================] - 85s 855ms/step - loss: 0.2803 - acc: 0.8888 - val_loss: 0.6507 - val_acc: 0.7425\n",
      "Epoch 8/50\n",
      "100/100 [==============================] - 86s 857ms/step - loss: 0.2084 - acc: 0.9155 - val_loss: 0.7327 - val_acc: 0.7412\n",
      "Epoch 9/50\n",
      "100/100 [==============================] - 86s 856ms/step - loss: 0.1696 - acc: 0.9295 - val_loss: 0.8988 - val_acc: 0.7013\n",
      "Epoch 10/50\n",
      "100/100 [==============================] - 85s 850ms/step - loss: 0.1591 - acc: 0.9363 - val_loss: 0.9059 - val_acc: 0.7288\n",
      "Epoch 11/50\n",
      "100/100 [==============================] - 86s 860ms/step - loss: 0.1164 - acc: 0.9542 - val_loss: 1.0025 - val_acc: 0.7462\n",
      "Epoch 12/50\n",
      "100/100 [==============================] - 85s 852ms/step - loss: 0.0803 - acc: 0.9664 - val_loss: 1.1334 - val_acc: 0.7338\n",
      "Epoch 13/50\n",
      "100/100 [==============================] - 86s 855ms/step - loss: 0.0637 - acc: 0.9758 - val_loss: 1.2797 - val_acc: 0.7450\n",
      "Epoch 14/50\n",
      "100/100 [==============================] - 85s 855ms/step - loss: 0.0440 - acc: 0.9838 - val_loss: 1.1830 - val_acc: 0.7262\n",
      "Epoch 15/50\n",
      "100/100 [==============================] - 85s 852ms/step - loss: 0.0476 - acc: 0.9838 - val_loss: 1.2296 - val_acc: 0.7362\n",
      "Epoch 16/50\n",
      "100/100 [==============================] - 86s 857ms/step - loss: 0.0298 - acc: 0.9908 - val_loss: 1.4365 - val_acc: 0.7113\n",
      "Epoch 17/50\n",
      "100/100 [==============================] - 85s 854ms/step - loss: 0.0420 - acc: 0.9845 - val_loss: 1.5471 - val_acc: 0.7225\n",
      "Epoch 18/50\n",
      "100/100 [==============================] - 84s 842ms/step - loss: 0.0835 - acc: 0.9752 - val_loss: 1.2537 - val_acc: 0.7225\n",
      "Epoch 19/50\n",
      "100/100 [==============================] - 84s 844ms/step - loss: 0.0642 - acc: 0.9775 - val_loss: 1.1601 - val_acc: 0.7338\n",
      "Epoch 20/50\n",
      "100/100 [==============================] - 85s 850ms/step - loss: 0.0213 - acc: 0.9931 - val_loss: 1.5407 - val_acc: 0.7200\n",
      "Epoch 21/50\n",
      "100/100 [==============================] - 84s 842ms/step - loss: 0.0050 - acc: 0.9992 - val_loss: 1.7589 - val_acc: 0.7163\n",
      "Epoch 22/50\n",
      "100/100 [==============================] - 85s 850ms/step - loss: 0.0078 - acc: 0.9977 - val_loss: 1.4764 - val_acc: 0.7362\n",
      "Epoch 23/50\n",
      "100/100 [==============================] - 84s 843ms/step - loss: 0.0121 - acc: 0.9967 - val_loss: 1.6859 - val_acc: 0.7350\n",
      "Epoch 24/50\n",
      "100/100 [==============================] - 85s 851ms/step - loss: 0.0027 - acc: 0.9997 - val_loss: 1.6344 - val_acc: 0.7150\n",
      "Epoch 25/50\n",
      "100/100 [==============================] - 85s 855ms/step - loss: 8.7328e-04 - acc: 0.9998 - val_loss: 1.8125 - val_acc: 0.7338\n",
      "Epoch 26/50\n",
      "100/100 [==============================] - 86s 857ms/step - loss: 0.0021 - acc: 0.9997 - val_loss: 1.6963 - val_acc: 0.7250\n",
      "Epoch 27/50\n",
      "100/100 [==============================] - 86s 856ms/step - loss: 9.3230e-04 - acc: 0.9998 - val_loss: 1.8235 - val_acc: 0.7225\n",
      "Epoch 28/50\n",
      "100/100 [==============================] - 85s 854ms/step - loss: 7.3102e-04 - acc: 0.9998 - val_loss: 1.7187 - val_acc: 0.7275\n",
      "Epoch 29/50\n",
      "100/100 [==============================] - 86s 855ms/step - loss: 6.9573e-04 - acc: 0.9998 - val_loss: 1.7445 - val_acc: 0.7450\n",
      "Epoch 30/50\n",
      "100/100 [==============================] - 86s 860ms/step - loss: 9.1123e-04 - acc: 0.9997 - val_loss: 1.8337 - val_acc: 0.7175\n",
      "Epoch 31/50\n",
      "100/100 [==============================] - 86s 855ms/step - loss: 5.3675e-04 - acc: 0.9998 - val_loss: 1.9569 - val_acc: 0.7150\n",
      "Epoch 32/50\n",
      "100/100 [==============================] - 86s 861ms/step - loss: 5.0790e-04 - acc: 0.9998 - val_loss: 1.6668 - val_acc: 0.7425\n",
      "Epoch 33/50\n",
      "100/100 [==============================] - 85s 846ms/step - loss: 4.8369e-04 - acc: 0.9998 - val_loss: 1.7368 - val_acc: 0.7325\n",
      "Epoch 34/50\n",
      "100/100 [==============================] - 86s 858ms/step - loss: 5.0202e-04 - acc: 0.9997 - val_loss: 1.9453 - val_acc: 0.7200\n",
      "Epoch 35/50\n",
      "100/100 [==============================] - 85s 854ms/step - loss: 4.6235e-04 - acc: 0.9997 - val_loss: 1.6978 - val_acc: 0.7438\n",
      "Epoch 36/50\n",
      "100/100 [==============================] - 85s 852ms/step - loss: 4.1740e-04 - acc: 0.9998 - val_loss: 2.0221 - val_acc: 0.7150\n",
      "Epoch 37/50\n",
      "100/100 [==============================] - 85s 855ms/step - loss: 4.8107e-04 - acc: 0.9997 - val_loss: 1.8784 - val_acc: 0.7125\n",
      "Epoch 38/50\n",
      "100/100 [==============================] - 86s 855ms/step - loss: 4.0016e-04 - acc: 0.9998 - val_loss: 1.8741 - val_acc: 0.7388\n",
      "Epoch 39/50\n",
      "100/100 [==============================] - 85s 852ms/step - loss: 3.5558e-04 - acc: 0.9998 - val_loss: 1.9085 - val_acc: 0.7225\n",
      "Epoch 40/50\n",
      "100/100 [==============================] - 85s 851ms/step - loss: 3.7886e-04 - acc: 0.9997 - val_loss: 1.8820 - val_acc: 0.7312\n",
      "Epoch 41/50\n",
      "100/100 [==============================] - 86s 857ms/step - loss: 2.7190e-04 - acc: 0.9998 - val_loss: 1.8736 - val_acc: 0.7325\n",
      "Epoch 42/50\n",
      "100/100 [==============================] - 85s 853ms/step - loss: 4.5320e-04 - acc: 0.9997 - val_loss: 1.9603 - val_acc: 0.7200\n",
      "Epoch 43/50\n",
      "100/100 [==============================] - 85s 854ms/step - loss: 3.4560e-04 - acc: 0.9998 - val_loss: 2.0886 - val_acc: 0.7150\n",
      "Epoch 44/50\n",
      "100/100 [==============================] - 85s 851ms/step - loss: 3.7707e-04 - acc: 0.9997 - val_loss: 1.7665 - val_acc: 0.7375\n",
      "Epoch 45/50\n",
      "100/100 [==============================] - 85s 853ms/step - loss: 2.7803e-04 - acc: 0.9997 - val_loss: 2.1988 - val_acc: 0.6950\n",
      "Epoch 46/50\n",
      "100/100 [==============================] - 85s 854ms/step - loss: 3.0411e-04 - acc: 0.9997 - val_loss: 1.6883 - val_acc: 0.7538\n",
      "Epoch 47/50\n",
      "100/100 [==============================] - 85s 851ms/step - loss: 2.8508e-04 - acc: 0.9998 - val_loss: 1.9493 - val_acc: 0.7338\n",
      "Epoch 48/50\n",
      "100/100 [==============================] - 85s 853ms/step - loss: 2.6201e-04 - acc: 0.9998 - val_loss: 1.9887 - val_acc: 0.7150\n",
      "Epoch 49/50\n",
      "100/100 [==============================] - 86s 857ms/step - loss: 2.6273e-04 - acc: 0.9997 - val_loss: 1.9121 - val_acc: 0.7200\n",
      "Epoch 50/50\n",
      "100/100 [==============================] - 85s 850ms/step - loss: 2.5183e-04 - acc: 0.9998 - val_loss: 2.0753 - val_acc: 0.7288\n"
     ]
    },
    {
     "data": {
      "text/plain": [
       "<keras.callbacks.History at 0x1c839bde6c8>"
      ]
     },
     "execution_count": 5,
     "metadata": {},
     "output_type": "execute_result"
    }
   ],
   "source": [
    "# 모델 학습시키기\n",
    "model.fit_generator(\n",
    "        train_generator,\n",
    "        steps_per_epoch=100,\n",
    "        epochs=50,\n",
    "        validation_data=test_generator,\n",
    "        validation_steps=50)"
   ]
  },
  {
   "cell_type": "code",
   "execution_count": 6,
   "metadata": {},
   "outputs": [
    {
     "data": {
      "text/plain": [
       "'#그래프로 학습내용 확인하기\\nplt.figure(figsize=(12, 12))\\nplt.subplot(1, 2, 1)\\nplt.plot(hist.history[\\'loss\\'])\\nplt.title(\"훈련 중 비용함수 그래프\")\\nplt.ylabel(\"비용함수 값\")\\nplt.subplot(1, 2, 2)\\nplt.title(\"훈련 중 성능지표 그래프\")\\nplt.ylabel(\"성능지표 값\")\\nplt.plot(hist.history[\\'accuracy\\'], \\'b-\\', label=\"학습 성능\")\\nplt.plot(hist.history[\\'val_accuracy\\'], \\'r:\\', label=\"검증 성능\")\\nplt.legend()\\nplt.tight_layout()\\nplt.show()'"
      ]
     },
     "execution_count": 6,
     "metadata": {},
     "output_type": "execute_result"
    }
   ],
   "source": [
    "\"\"\"#그래프로 학습내용 확인하기\n",
    "plt.figure(figsize=(12, 12))\n",
    "plt.subplot(1, 2, 1)\n",
    "plt.plot(hist.history['loss'])\n",
    "plt.title(\"훈련 중 비용함수 그래프\")\n",
    "plt.ylabel(\"비용함수 값\")\n",
    "plt.subplot(1, 2, 2)\n",
    "plt.title(\"훈련 중 성능지표 그래프\")\n",
    "plt.ylabel(\"성능지표 값\")\n",
    "plt.plot(hist.history['accuracy'], 'b-', label=\"학습 성능\")\n",
    "plt.plot(hist.history['val_accuracy'], 'r:', label=\"검증 성능\")\n",
    "plt.legend()\n",
    "plt.tight_layout()\n",
    "plt.show()\"\"\""
   ]
  },
  {
   "cell_type": "code",
   "execution_count": 17,
   "metadata": {},
   "outputs": [
    {
     "name": "stdout",
     "output_type": "stream",
     "text": [
      "-- Evaluate --\n",
      "acc: 82.50%\n"
     ]
    }
   ],
   "source": [
    "# 모델 평가하기\n",
    "print(\"-- Evaluate --\")\n",
    "\n",
    "scores = model.evaluate_generator(\n",
    "            test_generator, \n",
    "            steps = 5)\n",
    "\n",
    "print(\"%s: %.2f%%\" %(model.metrics_names[1], scores[1]*100))"
   ]
  },
  {
   "cell_type": "code",
   "execution_count": 18,
   "metadata": {},
   "outputs": [
    {
     "name": "stdout",
     "output_type": "stream",
     "text": [
      "-- Predict --\n",
      "[[0.000 0.000 1.000 0.000 0.000 0.000 0.000 0.000]\n",
      " [0.000 0.000 0.000 1.000 0.000 0.000 0.000 0.000]\n",
      " [0.000 0.000 0.000 0.000 0.000 1.000 0.000 0.000]\n",
      " [0.000 0.000 1.000 0.000 0.000 0.000 0.000 0.000]\n",
      " [0.000 0.000 0.001 0.000 0.000 0.999 0.000 0.000]\n",
      " [0.012 0.988 0.000 0.000 0.000 0.000 0.000 0.000]\n",
      " [0.000 0.000 0.000 0.000 1.000 0.000 0.000 0.000]\n",
      " [0.000 0.000 0.000 0.000 0.000 0.000 0.379 0.621]\n",
      " [1.000 0.000 0.000 0.000 0.000 0.000 0.000 0.000]\n",
      " [0.999 0.001 0.000 0.000 0.000 0.000 0.000 0.000]\n",
      " [1.000 0.000 0.000 0.000 0.000 0.000 0.000 0.000]\n",
      " [0.780 0.220 0.000 0.000 0.000 0.000 0.000 0.000]\n",
      " [0.000 0.000 0.000 0.000 1.000 0.000 0.000 0.000]\n",
      " [0.000 0.000 0.000 0.000 0.000 0.000 0.000 1.000]\n",
      " [0.000 0.000 0.000 0.000 0.000 0.000 0.000 1.000]\n",
      " [0.000 0.000 0.000 0.000 0.000 1.000 0.000 0.000]\n",
      " [0.000 0.000 0.986 0.000 0.014 0.000 0.000 0.000]\n",
      " [0.000 0.000 0.000 0.000 0.000 0.000 0.892 0.108]\n",
      " [0.000 0.000 0.000 0.000 1.000 0.000 0.000 0.000]\n",
      " [0.000 0.000 0.000 1.000 0.000 0.000 0.000 0.000]\n",
      " [0.000 0.000 0.000 0.000 0.000 1.000 0.000 0.000]\n",
      " [0.000 0.000 0.000 0.999 0.000 0.000 0.001 0.000]\n",
      " [0.000 0.000 0.000 0.000 0.000 0.000 0.000 1.000]\n",
      " [0.000 0.000 1.000 0.000 0.000 0.000 0.000 0.000]\n",
      " [0.000 0.000 0.000 1.000 0.000 0.000 0.000 0.000]\n",
      " [0.000 0.000 0.000 0.000 0.000 0.000 0.000 1.000]\n",
      " [0.000 0.000 0.000 0.000 0.000 0.000 0.241 0.759]\n",
      " [0.000 0.000 0.000 0.000 0.000 0.000 0.990 0.010]\n",
      " [0.000 0.000 0.000 0.000 0.000 1.000 0.000 0.000]\n",
      " [0.002 0.998 0.000 0.000 0.000 0.000 0.000 0.000]\n",
      " [0.000 1.000 0.000 0.000 0.000 0.000 0.000 0.000]\n",
      " [0.000 0.000 0.000 0.000 0.000 1.000 0.000 0.000]\n",
      " [0.000 0.000 0.000 0.989 0.000 0.000 0.000 0.011]\n",
      " [0.000 0.000 0.000 0.000 0.000 0.000 0.998 0.002]\n",
      " [0.000 0.000 0.000 0.000 1.000 0.000 0.000 0.000]\n",
      " [0.000 0.000 1.000 0.000 0.000 0.000 0.000 0.000]\n",
      " [0.000 0.000 0.000 0.000 0.000 0.000 1.000 0.000]\n",
      " [0.000 1.000 0.000 0.000 0.000 0.000 0.000 0.000]\n",
      " [0.000 0.000 0.000 0.000 0.000 1.000 0.000 0.000]\n",
      " [0.000 0.000 0.000 0.000 0.000 1.000 0.000 0.000]\n",
      " [0.000 0.000 0.000 1.000 0.000 0.000 0.000 0.000]\n",
      " [0.000 0.000 0.614 0.000 0.000 0.386 0.000 0.000]\n",
      " [0.000 1.000 0.000 0.000 0.000 0.000 0.000 0.000]\n",
      " [0.000 0.000 0.000 0.000 0.000 0.000 0.000 1.000]\n",
      " [0.000 0.000 0.999 0.000 0.000 0.001 0.000 0.000]\n",
      " [0.000 0.000 0.994 0.000 0.000 0.006 0.000 0.000]\n",
      " [0.000 0.000 0.000 0.000 0.000 0.000 0.945 0.055]\n",
      " [0.000 0.000 0.000 0.000 1.000 0.000 0.000 0.000]\n",
      " [0.000 0.000 0.000 0.000 0.000 0.000 0.000 1.000]\n",
      " [0.000 0.000 0.000 0.000 0.000 0.004 0.996 0.000]\n",
      " [0.000 0.000 0.000 1.000 0.000 0.000 0.000 0.000]\n",
      " [1.000 0.000 0.000 0.000 0.000 0.000 0.000 0.000]\n",
      " [0.000 0.000 0.000 0.000 1.000 0.000 0.000 0.000]\n",
      " [0.000 0.000 0.000 1.000 0.000 0.000 0.000 0.000]\n",
      " [0.000 0.000 0.008 0.000 0.000 0.992 0.000 0.000]\n",
      " [0.000 0.000 1.000 0.000 0.000 0.000 0.000 0.000]\n",
      " [0.000 0.000 0.000 0.000 0.999 0.000 0.001 0.000]\n",
      " [0.000 1.000 0.000 0.000 0.000 0.000 0.000 0.000]\n",
      " [1.000 0.000 0.000 0.000 0.000 0.000 0.000 0.000]\n",
      " [0.000 0.000 1.000 0.000 0.000 0.000 0.000 0.000]\n",
      " [0.000 0.000 0.000 1.000 0.000 0.000 0.000 0.000]\n",
      " [0.000 0.000 0.000 0.000 0.000 0.000 0.000 1.000]\n",
      " [0.666 0.334 0.000 0.000 0.000 0.000 0.000 0.000]\n",
      " [0.000 0.000 0.000 0.000 1.000 0.000 0.000 0.000]\n",
      " [0.000 0.000 0.000 0.000 0.000 0.000 1.000 0.000]\n",
      " [0.000 0.000 0.000 0.000 0.000 1.000 0.000 0.000]\n",
      " [0.928 0.072 0.000 0.000 0.000 0.000 0.000 0.000]\n",
      " [0.000 0.000 0.000 0.000 0.000 0.000 1.000 0.000]\n",
      " [0.000 0.000 0.001 0.000 0.000 0.999 0.000 0.000]\n",
      " [1.000 0.000 0.000 0.000 0.000 0.000 0.000 0.000]\n",
      " [0.997 0.003 0.000 0.000 0.000 0.000 0.000 0.000]\n",
      " [0.000 0.000 0.000 0.000 1.000 0.000 0.000 0.000]\n",
      " [0.000 0.000 0.000 0.000 0.000 0.000 1.000 0.000]\n",
      " [1.000 0.000 0.000 0.000 0.000 0.000 0.000 0.000]\n",
      " [0.000 0.000 0.000 1.000 0.000 0.000 0.000 0.000]\n",
      " [0.000 0.000 0.000 0.000 0.000 1.000 0.000 0.000]\n",
      " [0.074 0.926 0.000 0.000 0.000 0.000 0.000 0.000]\n",
      " [0.000 0.000 0.995 0.000 0.005 0.000 0.000 0.000]\n",
      " [0.000 0.000 1.000 0.000 0.000 0.000 0.000 0.000]\n",
      " [0.000 0.000 0.000 1.000 0.000 0.000 0.000 0.000]]\n"
     ]
    }
   ],
   "source": [
    "# 모델 예측하기\n",
    "print(\"-- Predict --\")\n",
    "\n",
    "prediction = model.predict_generator(\n",
    "            test_generator, \n",
    "            steps = 5)\n",
    "\n",
    "np.set_printoptions(formatter={'float': lambda x: \"{0:0.3f}\".format(x)})\n",
    "\n",
    "print(prediction)\n"
   ]
  },
  {
   "cell_type": "code",
   "execution_count": 19,
   "metadata": {},
   "outputs": [
    {
     "data": {
      "text/plain": [
       "2"
      ]
     },
     "execution_count": 19,
     "metadata": {},
     "output_type": "execute_result"
    }
   ],
   "source": [
    "#예측값 중 가장 높은 값 찾기\n",
    "np.argmax(prediction)"
   ]
  },
  {
   "cell_type": "code",
   "execution_count": 20,
   "metadata": {},
   "outputs": [],
   "source": [
    "model.save('endoscope_model_ver.82.50.h5')"
   ]
  },
  {
   "cell_type": "code",
   "execution_count": null,
   "metadata": {},
   "outputs": [],
   "source": []
  }
 ],
 "metadata": {
  "kernelspec": {
   "display_name": "Python 3",
   "language": "python",
   "name": "python3"
  },
  "language_info": {
   "codemirror_mode": {
    "name": "ipython",
    "version": 3
   },
   "file_extension": ".py",
   "mimetype": "text/x-python",
   "name": "python",
   "nbconvert_exporter": "python",
   "pygments_lexer": "ipython3",
   "version": "3.7.4"
  }
 },
 "nbformat": 4,
 "nbformat_minor": 2
}
