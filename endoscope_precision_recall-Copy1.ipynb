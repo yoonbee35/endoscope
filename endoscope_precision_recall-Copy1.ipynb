{
 "cells": [
  {
   "cell_type": "code",
   "execution_count": 1,
   "metadata": {},
   "outputs": [
    {
     "name": "stderr",
     "output_type": "stream",
     "text": [
      "Using TensorFlow backend.\n"
     ]
    }
   ],
   "source": [
    "import numpy as np\n",
    "np.random.seed(8)\n",
    "from keras.preprocessing.image import ImageDataGenerator"
   ]
  },
  {
   "cell_type": "code",
   "execution_count": 2,
   "metadata": {},
   "outputs": [
    {
     "name": "stdout",
     "output_type": "stream",
     "text": [
      "Found 6400 images belonging to 8 classes.\n",
      "Found 1600 images belonging to 8 classes.\n"
     ]
    }
   ],
   "source": [
    "train_datagen = ImageDataGenerator(rescale=1./255)\n",
    "                                   \n",
    "\n",
    "train_generator = train_datagen.flow_from_directory(\n",
    "        'C:/Users/Owner2/Desktop/deep/train',\n",
    "        target_size=(150, 150),\n",
    "        batch_size=64,\n",
    "        class_mode='categorical')\n",
    "\n",
    "test_datagen = ImageDataGenerator(rescale=1./255)\n",
    "\n",
    "test_generator = test_datagen.flow_from_directory(\n",
    "        'C:/Users/Owner2/Desktop/deep/test',\n",
    "        target_size=(150, 150),    \n",
    "        batch_size=16,\n",
    "        class_mode='categorical')\n",
    "\n",
    "from keras.models import Sequential\n",
    "from keras.layers import Dense\n",
    "from keras.layers import Flatten\n",
    "from keras.layers.convolutional import Conv2D\n",
    "from keras.layers.convolutional import MaxPooling2D"
   ]
  },
  {
   "cell_type": "code",
   "execution_count": 3,
   "metadata": {},
   "outputs": [
    {
     "name": "stderr",
     "output_type": "stream",
     "text": [
      "WARNING: Logging before flag parsing goes to stderr.\n",
      "W1128 16:44:59.532709 12000 deprecation_wrapper.py:119] From C:\\Users\\Owner2\\Anaconda3\\envs\\keras2\\lib\\site-packages\\keras\\backend\\tensorflow_backend.py:74: The name tf.get_default_graph is deprecated. Please use tf.compat.v1.get_default_graph instead.\n",
      "\n",
      "W1128 16:44:59.549779 12000 deprecation_wrapper.py:119] From C:\\Users\\Owner2\\Anaconda3\\envs\\keras2\\lib\\site-packages\\keras\\backend\\tensorflow_backend.py:517: The name tf.placeholder is deprecated. Please use tf.compat.v1.placeholder instead.\n",
      "\n",
      "W1128 16:44:59.551789 12000 deprecation_wrapper.py:119] From C:\\Users\\Owner2\\Anaconda3\\envs\\keras2\\lib\\site-packages\\keras\\backend\\tensorflow_backend.py:4138: The name tf.random_uniform is deprecated. Please use tf.random.uniform instead.\n",
      "\n",
      "W1128 16:44:59.566794 12000 deprecation_wrapper.py:119] From C:\\Users\\Owner2\\Anaconda3\\envs\\keras2\\lib\\site-packages\\keras\\backend\\tensorflow_backend.py:3976: The name tf.nn.max_pool is deprecated. Please use tf.nn.max_pool2d instead.\n",
      "\n"
     ]
    },
    {
     "name": "stdout",
     "output_type": "stream",
     "text": [
      "_________________________________________________________________\n",
      "Layer (type)                 Output Shape              Param #   \n",
      "=================================================================\n",
      "conv2d_1 (Conv2D)            (None, 148, 148, 32)      896       \n",
      "_________________________________________________________________\n",
      "max_pooling2d_1 (MaxPooling2 (None, 74, 74, 32)        0         \n",
      "_________________________________________________________________\n",
      "conv2d_2 (Conv2D)            (None, 72, 72, 64)        18496     \n",
      "_________________________________________________________________\n",
      "max_pooling2d_2 (MaxPooling2 (None, 36, 36, 64)        0         \n",
      "_________________________________________________________________\n",
      "conv2d_3 (Conv2D)            (None, 34, 34, 128)       73856     \n",
      "_________________________________________________________________\n",
      "max_pooling2d_3 (MaxPooling2 (None, 17, 17, 128)       0         \n",
      "_________________________________________________________________\n",
      "flatten_1 (Flatten)          (None, 36992)             0         \n",
      "_________________________________________________________________\n",
      "dense_1 (Dense)              (None, 512)               18940416  \n",
      "_________________________________________________________________\n",
      "dense_2 (Dense)              (None, 8)                 4104      \n",
      "=================================================================\n",
      "Total params: 19,037,768\n",
      "Trainable params: 19,037,768\n",
      "Non-trainable params: 0\n",
      "_________________________________________________________________\n"
     ]
    }
   ],
   "source": [
    "from keras.models import Sequential\n",
    "from keras.layers import Dense\n",
    "from keras.layers import Flatten\n",
    "from keras.layers.convolutional import Conv2D\n",
    "from keras.layers.convolutional import MaxPooling2D\n",
    "\n",
    "from keras.layers import Dropout\n",
    "\n",
    "model = Sequential()\n",
    "model.add(Conv2D(32, kernel_size=(3, 3),\n",
    "                 activation='relu',\n",
    "                 input_shape=(150,150,3)))\n",
    "model.add(MaxPooling2D(pool_size=(2, 2)))\n",
    "model.add(Conv2D(64, (3, 3), activation='relu'))\n",
    "model.add(MaxPooling2D(pool_size=(2, 2)))\n",
    "model.add(Conv2D(128, (3, 3), activation='relu'))\n",
    "model.add(MaxPooling2D(pool_size=(2, 2)))\n",
    "model.add(Flatten())\n",
    "model.add(Dense(512, activation='relu'))\n",
    "model.add(Dense(8, activation='softmax'))\n",
    "\n",
    "model.summary()"
   ]
  },
  {
   "cell_type": "code",
   "execution_count": 4,
   "metadata": {},
   "outputs": [],
   "source": [
    "from keras import backend as K\n",
    "import tensorflow as tf\n",
    "from sklearn.metrics import recall_score \n",
    "\n",
    "from sklearn.metrics import precision_score \n",
    "\n",
    "from sklearn.metrics import f1_score \n",
    "from keras.optimizers import adam\n",
    "from keras import metrics\n",
    "from tensorflow.python.keras.callbacks import TensorBoard"
   ]
  },
  {
   "cell_type": "markdown",
   "metadata": {},
   "source": [
    "def recall(y_target, y_pred):\n",
    "    # clip(t, clip_value_min, clip_value_max) : clip_value_min~clip_value_max 이외 가장자리를 깎아 낸다\n",
    "    # round : 반올림한다\n",
    "    y_target_yn = K.round(K.clip(y_target, 0, 1)) # 실제값을 0(Negative) 또는 1(Positive)로 설정한다\n",
    "    y_pred_yn = K.round(K.clip(y_pred, 0, 1)) # 예측값을 0(Negative) 또는 1(Positive)로 설정한다\n",
    "\n",
    "    # True Positive는 실제 값과 예측 값이 모두 1(Positive)인 경우이다\n",
    "    count_true_positive = K.sum(y_target_yn * y_pred_yn) \n",
    "\n",
    "    # (True Positive + False Negative) = 실제 값이 1(Positive) 전체\n",
    "    count_true_positive_false_negative = K.sum(y_target_yn)\n",
    "\n",
    "    # Recall =  (True Positive) / (True Positive + False Negative)\n",
    "    # K.epsilon()는 'divide by zero error' 예방차원에서 작은 수를 더한다\n",
    "    recall = count_true_positive / (count_true_positive_false_negative + K.epsilon())\n",
    "\n",
    "    # return a single tensor value\n",
    "    return recall\n",
    "\n",
    "\n",
    "def precision(y_target, y_pred):\n",
    "    # clip(t, clip_value_min, clip_value_max) : clip_value_min~clip_value_max 이외 가장자리를 깎아 낸다\n",
    "    # round : 반올림한다\n",
    "    y_pred_yn = K.round(K.clip(y_pred, 0, 1)) # 예측값을 0(Negative) 또는 1(Positive)로 설정한다\n",
    "    y_target_yn = K.round(K.clip(y_target, 0, 1)) # 실제값을 0(Negative) 또는 1(Positive)로 설정한다\n",
    "\n",
    "    # True Positive는 실제 값과 예측 값이 모두 1(Positive)인 경우이다\n",
    "    count_true_positive = K.sum(y_target_yn * y_pred_yn) \n",
    "\n",
    "    # (True Positive + False Positive) = 예측 값이 1(Positive) 전체\n",
    "    count_true_positive_false_positive = K.sum(y_pred_yn)\n",
    "\n",
    "    # Precision = (True Positive) / (True Positive + False Positive)\n",
    "    # K.epsilon()는 'divide by zero error' 예방차원에서 작은 수를 더한다\n",
    "    precision = count_true_positive / (count_true_positive_false_positive + K.epsilon())\n",
    "\n",
    "    # return a single tensor value\n",
    "    return precision\n",
    "\n",
    "def f1score(y_target, y_pred):\n",
    "    _recall = recall(y_target, y_pred)\n",
    "    _precision = precision(y_target, y_pred)\n",
    "    # K.epsilon()는 'divide by zero error' 예방차원에서 작은 수를 더한다\n",
    "    _f1score = ( 2 * _recall * _precision) / (_recall + _precision+ K.epsilon())\n",
    "    \n",
    "    # return a single tensor value\n",
    "    return _f1score\n"
   ]
  },
  {
   "cell_type": "code",
   "execution_count": 7,
   "metadata": {},
   "outputs": [],
   "source": [
    "Xtrain,ytrain=next(train_generator)\n",
    "Xtest,ytest=next(test_generator)"
   ]
  },
  {
   "cell_type": "code",
   "execution_count": 8,
   "metadata": {},
   "outputs": [],
   "source": [
    "from keras import backend as K\n",
    "\n",
    "def recall_m(y_true, y_pred):\n",
    "        true_positives = K.sum(K.round(K.clip(y_true * y_pred, 0, 1)))\n",
    "        possible_positives = K.sum(K.round(K.clip(y_true, 0, 1)))\n",
    "        recall = true_positives / (possible_positives + K.epsilon())\n",
    "        return recall\n",
    "\n",
    "def precision_m(y_true, y_pred):\n",
    "        true_positives = K.sum(K.round(K.clip(y_true * y_pred, 0, 1)))\n",
    "        predicted_positives = K.sum(K.round(K.clip(y_pred, 0, 1)))\n",
    "        precision = true_positives / (predicted_positives + K.epsilon())\n",
    "        return precision\n",
    "\n",
    "def f1_m(y_true, y_pred):\n",
    "    precision = precision_m(y_true, y_pred)\n",
    "    recall = recall_m(y_true, y_pred)\n",
    "    return 2*((precision*recall)/(precision+recall+K.epsilon()))\n",
    "\n",
    "# compile the model\n",
    "model.compile(optimizer='adam', loss='binary_crossentropy', metrics=['acc',f1_m,precision_m, recall_m])"
   ]
  },
  {
   "cell_type": "code",
   "execution_count": 9,
   "metadata": {
    "scrolled": false
   },
   "outputs": [
    {
     "name": "stderr",
     "output_type": "stream",
     "text": [
      "W1128 16:45:27.839650 12000 deprecation_wrapper.py:119] From C:\\Users\\Owner2\\Anaconda3\\envs\\keras2\\lib\\site-packages\\keras\\backend\\tensorflow_backend.py:986: The name tf.assign_add is deprecated. Please use tf.compat.v1.assign_add instead.\n",
      "\n"
     ]
    },
    {
     "name": "stdout",
     "output_type": "stream",
     "text": [
      "Epoch 1/50\n",
      "100/100 [==============================] - 116s 1s/step - loss: 0.1995 - acc: 0.9081 - f1_m: 0.5568 - precision_m: 0.6595 - recall_m: 0.5008 - val_loss: 0.1571 - val_acc: 0.9223 - val_f1_m: 0.6772 - val_precision_m: 0.7023 - val_recall_m: 0.6554\n",
      "Epoch 2/50\n",
      "100/100 [==============================] - 108s 1s/step - loss: 0.1465 - acc: 0.9295 - f1_m: 0.7070 - precision_m: 0.7355 - recall_m: 0.6811 - val_loss: 0.1608 - val_acc: 0.9226 - val_f1_m: 0.6784 - val_precision_m: 0.7035 - val_recall_m: 0.6567\n",
      "Epoch 3/50\n",
      "100/100 [==============================] - 107s 1s/step - loss: 0.1352 - acc: 0.9382 - f1_m: 0.7454 - precision_m: 0.7672 - recall_m: 0.7253 - val_loss: 0.1457 - val_acc: 0.9354 - val_f1_m: 0.7358 - val_precision_m: 0.7512 - val_recall_m: 0.7221\n",
      "Epoch 4/50\n",
      "100/100 [==============================] - 107s 1s/step - loss: 0.1152 - acc: 0.9462 - f1_m: 0.7811 - precision_m: 0.7938 - recall_m: 0.7691 - val_loss: 0.1481 - val_acc: 0.9332 - val_f1_m: 0.7276 - val_precision_m: 0.7427 - val_recall_m: 0.7142\n",
      "Epoch 5/50\n",
      "100/100 [==============================] - 107s 1s/step - loss: 0.1040 - acc: 0.9537 - f1_m: 0.8123 - precision_m: 0.8238 - recall_m: 0.8014 - val_loss: 0.1523 - val_acc: 0.9322 - val_f1_m: 0.7211 - val_precision_m: 0.7405 - val_recall_m: 0.7037\n",
      "Epoch 6/50\n",
      "100/100 [==============================] - 107s 1s/step - loss: 0.0824 - acc: 0.9650 - f1_m: 0.8587 - precision_m: 0.8661 - recall_m: 0.8516 - val_loss: 0.1433 - val_acc: 0.9382 - val_f1_m: 0.7499 - val_precision_m: 0.7571 - val_recall_m: 0.7433\n",
      "Epoch 7/50\n",
      "100/100 [==============================] - 106s 1s/step - loss: 0.0687 - acc: 0.9711 - f1_m: 0.8835 - precision_m: 0.8892 - recall_m: 0.8780 - val_loss: 0.1549 - val_acc: 0.9326 - val_f1_m: 0.7266 - val_precision_m: 0.7370 - val_recall_m: 0.7171\n",
      "Epoch 8/50\n",
      "100/100 [==============================] - 107s 1s/step - loss: 0.0470 - acc: 0.9817 - f1_m: 0.9266 - precision_m: 0.9289 - recall_m: 0.9244 - val_loss: 0.1871 - val_acc: 0.9352 - val_f1_m: 0.7384 - val_precision_m: 0.7444 - val_recall_m: 0.7329\n",
      "Epoch 9/50\n",
      "100/100 [==============================] - 107s 1s/step - loss: 0.0390 - acc: 0.9838 - f1_m: 0.9352 - precision_m: 0.9368 - recall_m: 0.9336 - val_loss: 0.2435 - val_acc: 0.9283 - val_f1_m: 0.7100 - val_precision_m: 0.7173 - val_recall_m: 0.7033\n",
      "Epoch 10/50\n",
      "100/100 [==============================] - 107s 1s/step - loss: 0.0317 - acc: 0.9873 - f1_m: 0.9491 - precision_m: 0.9511 - recall_m: 0.9470 - val_loss: 0.2198 - val_acc: 0.9348 - val_f1_m: 0.7384 - val_precision_m: 0.7415 - val_recall_m: 0.7354\n",
      "Epoch 11/50\n",
      "100/100 [==============================] - 106s 1s/step - loss: 0.0241 - acc: 0.9900 - f1_m: 0.9599 - precision_m: 0.9613 - recall_m: 0.9586 - val_loss: 0.2363 - val_acc: 0.9367 - val_f1_m: 0.7461 - val_precision_m: 0.7482 - val_recall_m: 0.7442\n",
      "Epoch 12/50\n",
      "100/100 [==============================] - 107s 1s/step - loss: 0.0183 - acc: 0.9931 - f1_m: 0.9724 - precision_m: 0.9728 - recall_m: 0.9720 - val_loss: 0.2826 - val_acc: 0.9339 - val_f1_m: 0.7344 - val_precision_m: 0.7372 - val_recall_m: 0.7317\n",
      "Epoch 13/50\n",
      "100/100 [==============================] - 106s 1s/step - loss: 0.0163 - acc: 0.9944 - f1_m: 0.9777 - precision_m: 0.9780 - recall_m: 0.9775 - val_loss: 0.2994 - val_acc: 0.9318 - val_f1_m: 0.7267 - val_precision_m: 0.7286 - val_recall_m: 0.7250\n",
      "Epoch 14/50\n",
      "100/100 [==============================] - 106s 1s/step - loss: 0.0109 - acc: 0.9963 - f1_m: 0.9850 - precision_m: 0.9850 - recall_m: 0.9850 - val_loss: 0.3071 - val_acc: 0.9350 - val_f1_m: 0.7391 - val_precision_m: 0.7413 - val_recall_m: 0.7371\n",
      "Epoch 15/50\n",
      "100/100 [==============================] - 106s 1s/step - loss: 0.0070 - acc: 0.9974 - f1_m: 0.9896 - precision_m: 0.9897 - recall_m: 0.9895 - val_loss: 0.3488 - val_acc: 0.9346 - val_f1_m: 0.7383 - val_precision_m: 0.7391 - val_recall_m: 0.7375\n",
      "Epoch 16/50\n",
      "100/100 [==============================] - 107s 1s/step - loss: 0.0101 - acc: 0.9962 - f1_m: 0.9847 - precision_m: 0.9847 - recall_m: 0.9847 - val_loss: 0.3553 - val_acc: 0.9291 - val_f1_m: 0.7160 - val_precision_m: 0.7167 - val_recall_m: 0.7154\n",
      "Epoch 17/50\n",
      "100/100 [==============================] - 107s 1s/step - loss: 0.0074 - acc: 0.9979 - f1_m: 0.9916 - precision_m: 0.9917 - recall_m: 0.9914 - val_loss: 0.3700 - val_acc: 0.9359 - val_f1_m: 0.7430 - val_precision_m: 0.7449 - val_recall_m: 0.7412\n",
      "Epoch 18/50\n",
      "100/100 [==============================] - 107s 1s/step - loss: 0.0074 - acc: 0.9975 - f1_m: 0.9900 - precision_m: 0.9900 - recall_m: 0.9900 - val_loss: 0.3565 - val_acc: 0.9235 - val_f1_m: 0.6928 - val_precision_m: 0.6959 - val_recall_m: 0.6900\n",
      "Epoch 19/50\n",
      "100/100 [==============================] - 106s 1s/step - loss: 0.0069 - acc: 0.9977 - f1_m: 0.9907 - precision_m: 0.9909 - recall_m: 0.9905 - val_loss: 0.3658 - val_acc: 0.9365 - val_f1_m: 0.7446 - val_precision_m: 0.7477 - val_recall_m: 0.7417\n",
      "Epoch 20/50\n",
      "100/100 [==============================] - 107s 1s/step - loss: 0.0058 - acc: 0.9983 - f1_m: 0.9932 - precision_m: 0.9933 - recall_m: 0.9931 - val_loss: 0.4273 - val_acc: 0.9202 - val_f1_m: 0.6803 - val_precision_m: 0.6816 - val_recall_m: 0.6792\n",
      "Epoch 21/50\n",
      "100/100 [==============================] - 106s 1s/step - loss: 0.0079 - acc: 0.9976 - f1_m: 0.9903 - precision_m: 0.9905 - recall_m: 0.9902 - val_loss: 0.3915 - val_acc: 0.9299 - val_f1_m: 0.7185 - val_precision_m: 0.7205 - val_recall_m: 0.7167\n",
      "Epoch 22/50\n",
      "100/100 [==============================] - 106s 1s/step - loss: 0.0047 - acc: 0.9983 - f1_m: 0.9932 - precision_m: 0.9933 - recall_m: 0.9931 - val_loss: 0.3782 - val_acc: 0.9367 - val_f1_m: 0.7465 - val_precision_m: 0.7471 - val_recall_m: 0.7458\n",
      "Epoch 23/50\n",
      "100/100 [==============================] - 106s 1s/step - loss: 0.0029 - acc: 0.9990 - f1_m: 0.9959 - precision_m: 0.9959 - recall_m: 0.9958 - val_loss: 0.4180 - val_acc: 0.9304 - val_f1_m: 0.7214 - val_precision_m: 0.7220 - val_recall_m: 0.7208\n",
      "Epoch 24/50\n",
      "100/100 [==============================] - 107s 1s/step - loss: 0.0045 - acc: 0.9986 - f1_m: 0.9943 - precision_m: 0.9944 - recall_m: 0.9942 - val_loss: 0.3997 - val_acc: 0.9311 - val_f1_m: 0.7237 - val_precision_m: 0.7258 - val_recall_m: 0.7217\n",
      "Epoch 25/50\n",
      "100/100 [==============================] - 107s 1s/step - loss: 0.0037 - acc: 0.9990 - f1_m: 0.9959 - precision_m: 0.9961 - recall_m: 0.9958 - val_loss: 0.4050 - val_acc: 0.9382 - val_f1_m: 0.7526 - val_precision_m: 0.7532 - val_recall_m: 0.7521\n",
      "Epoch 26/50\n",
      "100/100 [==============================] - 106s 1s/step - loss: 4.8536e-04 - acc: 0.9999 - f1_m: 0.9997 - precision_m: 0.9997 - recall_m: 0.9997 - val_loss: 0.4026 - val_acc: 0.9406 - val_f1_m: 0.7621 - val_precision_m: 0.7631 - val_recall_m: 0.7612\n",
      "Epoch 27/50\n",
      "100/100 [==============================] - 106s 1s/step - loss: 1.6848e-04 - acc: 1.0000 - f1_m: 0.9998 - precision_m: 0.9998 - recall_m: 0.9998 - val_loss: 0.4124 - val_acc: 0.9396 - val_f1_m: 0.7580 - val_precision_m: 0.7590 - val_recall_m: 0.7571\n",
      "Epoch 28/50\n",
      "100/100 [==============================] - 105s 1s/step - loss: 2.0221e-04 - acc: 0.9999 - f1_m: 0.9997 - precision_m: 0.9997 - recall_m: 0.9997 - val_loss: 0.4162 - val_acc: 0.9392 - val_f1_m: 0.7566 - val_precision_m: 0.7575 - val_recall_m: 0.7558\n",
      "Epoch 29/50\n",
      "100/100 [==============================] - 106s 1s/step - loss: 1.4114e-04 - acc: 0.9999 - f1_m: 0.9997 - precision_m: 0.9997 - recall_m: 0.9997 - val_loss: 0.4154 - val_acc: 0.9391 - val_f1_m: 0.7561 - val_precision_m: 0.7569 - val_recall_m: 0.7554\n",
      "Epoch 30/50\n",
      "100/100 [==============================] - 106s 1s/step - loss: 1.5259e-04 - acc: 0.9999 - f1_m: 0.9997 - precision_m: 0.9997 - recall_m: 0.9997 - val_loss: 0.4313 - val_acc: 0.9389 - val_f1_m: 0.7552 - val_precision_m: 0.7559 - val_recall_m: 0.7546\n",
      "Epoch 31/50\n",
      "100/100 [==============================] - 105s 1s/step - loss: 1.4072e-04 - acc: 0.9999 - f1_m: 0.9997 - precision_m: 0.9997 - recall_m: 0.9997 - val_loss: 0.4324 - val_acc: 0.9376 - val_f1_m: 0.7502 - val_precision_m: 0.7509 - val_recall_m: 0.7496\n",
      "Epoch 32/50\n",
      "100/100 [==============================] - 107s 1s/step - loss: 9.7675e-05 - acc: 0.9999 - f1_m: 0.9997 - precision_m: 0.9997 - recall_m: 0.9997 - val_loss: 0.4193 - val_acc: 0.9393 - val_f1_m: 0.7569 - val_precision_m: 0.7577 - val_recall_m: 0.7562\n"
     ]
    },
    {
     "name": "stdout",
     "output_type": "stream",
     "text": [
      "Epoch 33/50\n",
      "100/100 [==============================] - 106s 1s/step - loss: 1.0586e-04 - acc: 0.9999 - f1_m: 0.9997 - precision_m: 0.9997 - recall_m: 0.9997 - val_loss: 0.4222 - val_acc: 0.9400 - val_f1_m: 0.7598 - val_precision_m: 0.7604 - val_recall_m: 0.7592\n",
      "Epoch 34/50\n",
      "100/100 [==============================] - 106s 1s/step - loss: 7.9575e-05 - acc: 1.0000 - f1_m: 0.9998 - precision_m: 0.9998 - recall_m: 0.9998 - val_loss: 0.4448 - val_acc: 0.9372 - val_f1_m: 0.7486 - val_precision_m: 0.7490 - val_recall_m: 0.7483\n",
      "Epoch 35/50\n",
      "100/100 [==============================] - 106s 1s/step - loss: 9.6899e-05 - acc: 1.0000 - f1_m: 0.9998 - precision_m: 0.9998 - recall_m: 0.9998 - val_loss: 0.4345 - val_acc: 0.9385 - val_f1_m: 0.7538 - val_precision_m: 0.7544 - val_recall_m: 0.7533\n",
      "Epoch 36/50\n",
      "100/100 [==============================] - 107s 1s/step - loss: 9.8442e-05 - acc: 1.0000 - f1_m: 0.9998 - precision_m: 0.9998 - recall_m: 0.9998 - val_loss: 0.4382 - val_acc: 0.9382 - val_f1_m: 0.7524 - val_precision_m: 0.7532 - val_recall_m: 0.7517\n",
      "Epoch 37/50\n",
      "100/100 [==============================] - 106s 1s/step - loss: 7.0763e-05 - acc: 0.9999 - f1_m: 0.9998 - precision_m: 0.9998 - recall_m: 0.9997 - val_loss: 0.4439 - val_acc: 0.9386 - val_f1_m: 0.7545 - val_precision_m: 0.7548 - val_recall_m: 0.7542\n",
      "Epoch 38/50\n",
      "100/100 [==============================] - 107s 1s/step - loss: 7.8649e-05 - acc: 0.9999 - f1_m: 0.9997 - precision_m: 0.9997 - recall_m: 0.9997 - val_loss: 0.4376 - val_acc: 0.9380 - val_f1_m: 0.7519 - val_precision_m: 0.7523 - val_recall_m: 0.7517\n",
      "Epoch 39/50\n",
      "100/100 [==============================] - 107s 1s/step - loss: 6.8627e-05 - acc: 0.9999 - f1_m: 0.9997 - precision_m: 0.9997 - recall_m: 0.9997 - val_loss: 0.4443 - val_acc: 0.9395 - val_f1_m: 0.7579 - val_precision_m: 0.7584 - val_recall_m: 0.7575\n",
      "Epoch 40/50\n",
      "100/100 [==============================] - 106s 1s/step - loss: 7.5126e-05 - acc: 0.9999 - f1_m: 0.9997 - precision_m: 0.9997 - recall_m: 0.9997 - val_loss: 0.4462 - val_acc: 0.9374 - val_f1_m: 0.7495 - val_precision_m: 0.7499 - val_recall_m: 0.7492\n",
      "Epoch 41/50\n",
      "100/100 [==============================] - 107s 1s/step - loss: 7.2590e-05 - acc: 0.9999 - f1_m: 0.9997 - precision_m: 0.9997 - recall_m: 0.9997 - val_loss: 0.4502 - val_acc: 0.9379 - val_f1_m: 0.7514 - val_precision_m: 0.7520 - val_recall_m: 0.7508\n",
      "Epoch 42/50\n",
      "100/100 [==============================] - 107s 1s/step - loss: 6.7162e-05 - acc: 0.9999 - f1_m: 0.9997 - precision_m: 0.9997 - recall_m: 0.9997 - val_loss: 0.4507 - val_acc: 0.9387 - val_f1_m: 0.7549 - val_precision_m: 0.7552 - val_recall_m: 0.7546\n",
      "Epoch 43/50\n",
      "100/100 [==============================] - 106s 1s/step - loss: 6.3940e-05 - acc: 1.0000 - f1_m: 0.9998 - precision_m: 0.9998 - recall_m: 0.9998 - val_loss: 0.4491 - val_acc: 0.9397 - val_f1_m: 0.7585 - val_precision_m: 0.7592 - val_recall_m: 0.7579\n",
      "Epoch 44/50\n",
      "100/100 [==============================] - 106s 1s/step - loss: 6.3978e-05 - acc: 1.0000 - f1_m: 0.9998 - precision_m: 0.9998 - recall_m: 0.9998 - val_loss: 0.4695 - val_acc: 0.9374 - val_f1_m: 0.7495 - val_precision_m: 0.7499 - val_recall_m: 0.7492\n",
      "Epoch 45/50\n",
      "100/100 [==============================] - 106s 1s/step - loss: 6.6152e-05 - acc: 0.9999 - f1_m: 0.9997 - precision_m: 0.9997 - recall_m: 0.9997 - val_loss: 0.4480 - val_acc: 0.9392 - val_f1_m: 0.7566 - val_precision_m: 0.7571 - val_recall_m: 0.7562\n",
      "Epoch 46/50\n",
      "100/100 [==============================] - 106s 1s/step - loss: 6.4545e-05 - acc: 0.9999 - f1_m: 0.9997 - precision_m: 0.9997 - recall_m: 0.9997 - val_loss: 0.4604 - val_acc: 0.9389 - val_f1_m: 0.7555 - val_precision_m: 0.7560 - val_recall_m: 0.7550\n",
      "Epoch 47/50\n",
      "100/100 [==============================] - 106s 1s/step - loss: 5.8656e-05 - acc: 1.0000 - f1_m: 0.9998 - precision_m: 0.9998 - recall_m: 0.9998 - val_loss: 0.4611 - val_acc: 0.9385 - val_f1_m: 0.7538 - val_precision_m: 0.7543 - val_recall_m: 0.7533\n",
      "Epoch 48/50\n",
      "100/100 [==============================] - 106s 1s/step - loss: 6.4048e-05 - acc: 0.9999 - f1_m: 0.9997 - precision_m: 0.9997 - recall_m: 0.9997 - val_loss: 0.4702 - val_acc: 0.9385 - val_f1_m: 0.7539 - val_precision_m: 0.7540 - val_recall_m: 0.7538\n",
      "Epoch 49/50\n",
      "100/100 [==============================] - 106s 1s/step - loss: 6.4103e-05 - acc: 0.9999 - f1_m: 0.9998 - precision_m: 0.9998 - recall_m: 0.9997 - val_loss: 0.4831 - val_acc: 0.9378 - val_f1_m: 0.7510 - val_precision_m: 0.7511 - val_recall_m: 0.7508\n",
      "Epoch 50/50\n",
      "100/100 [==============================] - 106s 1s/step - loss: 6.2318e-05 - acc: 0.9999 - f1_m: 0.9998 - precision_m: 0.9998 - recall_m: 0.9997 - val_loss: 0.4519 - val_acc: 0.9401 - val_f1_m: 0.7601 - val_precision_m: 0.7606 - val_recall_m: 0.7596\n"
     ]
    },
    {
     "data": {
      "text/plain": [
       "<keras.callbacks.History at 0x1f2c55b5788>"
      ]
     },
     "execution_count": 9,
     "metadata": {},
     "output_type": "execute_result"
    }
   ],
   "source": [
    "# 모델 학습시키기\n",
    "model.fit_generator(\n",
    "        train_generator,\n",
    "        steps_per_epoch=100,\n",
    "        epochs=50,\n",
    "        validation_data=test_generator,\n",
    "        validation_steps=150)"
   ]
  },
  {
   "cell_type": "code",
   "execution_count": 15,
   "metadata": {},
   "outputs": [
    {
     "name": "stdout",
     "output_type": "stream",
     "text": [
      "0.8749999403953552\n",
      "0.875\n",
      "0.875\n"
     ]
    }
   ],
   "source": [
    "# evaluate the model\n",
    "loss, accuracy, f1_score, precision, recall = model.evaluate(Xtest, \n",
    "                                                             ytest,verbose=0)\n",
    "\n",
    "print(f1_score)\n",
    "print(precision)\n",
    "print(recall)"
   ]
  },
  {
   "cell_type": "code",
   "execution_count": 18,
   "metadata": {},
   "outputs": [
    {
     "name": "stdout",
     "output_type": "stream",
     "text": [
      "-- Evaluate --\n",
      "acc: 95.62%\n"
     ]
    }
   ],
   "source": [
    "# 모델 평가하기\n",
    "print(\"-- Evaluate --\")\n",
    "\n",
    "scores = model.evaluate_generator(\n",
    "            test_generator, \n",
    "            steps = 5)\n",
    "\n",
    "print(\"%s: %.2f%%\" %(model.metrics_names[1], scores[1]*100))"
   ]
  },
  {
   "cell_type": "code",
   "execution_count": 13,
   "metadata": {},
   "outputs": [
    {
     "name": "stdout",
     "output_type": "stream",
     "text": [
      "-- Predict --\n",
      "[[0.011 0.989 0.000 0.000 0.000 0.000 0.000 0.000]\n",
      " [0.000 0.000 0.000 0.000 0.000 1.000 0.000 0.000]\n",
      " [0.000 0.000 0.000 0.000 0.000 0.000 1.000 0.000]\n",
      " [0.638 0.362 0.000 0.000 0.000 0.000 0.000 0.000]\n",
      " [0.000 0.000 0.000 0.984 0.000 0.000 0.011 0.005]\n",
      " [0.003 0.997 0.000 0.000 0.000 0.000 0.000 0.000]\n",
      " [0.000 0.000 0.000 0.000 0.000 0.000 0.000 1.000]\n",
      " [0.888 0.112 0.000 0.000 0.000 0.000 0.000 0.000]\n",
      " [0.000 0.000 0.000 0.000 0.000 0.000 1.000 0.000]\n",
      " [0.000 0.000 0.393 0.000 0.607 0.000 0.000 0.000]\n",
      " [0.000 0.000 0.000 0.000 0.000 0.000 0.489 0.511]\n",
      " [0.000 0.000 0.000 0.000 1.000 0.000 0.000 0.000]\n",
      " [0.001 0.999 0.000 0.000 0.000 0.000 0.000 0.000]\n",
      " [0.000 0.000 0.000 0.000 0.000 0.000 0.000 1.000]\n",
      " [0.000 0.000 0.000 0.000 1.000 0.000 0.000 0.000]\n",
      " [0.000 0.000 0.000 0.000 1.000 0.000 0.000 0.000]\n",
      " [1.000 0.000 0.000 0.000 0.000 0.000 0.000 0.000]\n",
      " [0.000 0.000 0.000 0.015 0.000 0.000 0.000 0.985]\n",
      " [0.000 0.000 1.000 0.000 0.000 0.000 0.000 0.000]\n",
      " [0.000 0.000 0.001 0.000 0.000 0.999 0.000 0.000]\n",
      " [0.000 0.000 0.000 0.000 0.000 1.000 0.000 0.000]\n",
      " [0.943 0.057 0.000 0.000 0.000 0.000 0.000 0.000]\n",
      " [0.846 0.154 0.000 0.000 0.000 0.000 0.000 0.000]\n",
      " [0.000 0.000 0.000 1.000 0.000 0.000 0.000 0.000]\n",
      " [0.000 0.000 1.000 0.000 0.000 0.000 0.000 0.000]\n",
      " [0.000 0.000 0.000 0.000 0.000 1.000 0.000 0.000]\n",
      " [0.000 0.000 0.000 0.000 0.000 1.000 0.000 0.000]\n",
      " [0.000 0.000 0.000 0.000 0.000 1.000 0.000 0.000]\n",
      " [0.000 0.000 0.000 0.000 0.000 0.000 1.000 0.000]\n",
      " [0.000 0.000 1.000 0.000 0.000 0.000 0.000 0.000]\n",
      " [1.000 0.000 0.000 0.000 0.000 0.000 0.000 0.000]\n",
      " [1.000 0.000 0.000 0.000 0.000 0.000 0.000 0.000]\n",
      " [0.000 0.000 0.000 0.000 0.000 0.000 0.000 1.000]\n",
      " [0.000 0.000 0.000 0.000 0.000 0.000 0.063 0.937]\n",
      " [0.000 0.000 0.000 0.000 0.000 0.000 0.000 1.000]\n",
      " [0.000 0.000 0.002 0.000 0.000 0.998 0.000 0.000]\n",
      " [1.000 0.000 0.000 0.000 0.000 0.000 0.000 0.000]\n",
      " [0.000 0.000 1.000 0.000 0.000 0.000 0.000 0.000]\n",
      " [0.000 0.000 0.000 0.000 0.000 0.000 0.673 0.327]\n",
      " [0.000 0.000 1.000 0.000 0.000 0.000 0.000 0.000]\n",
      " [0.000 0.000 0.000 0.000 0.083 0.911 0.006 0.000]\n",
      " [0.001 0.999 0.000 0.000 0.000 0.000 0.000 0.000]\n",
      " [0.000 0.000 0.000 1.000 0.000 0.000 0.000 0.000]\n",
      " [0.000 0.000 0.000 0.000 0.000 0.000 0.000 1.000]\n",
      " [0.000 0.000 0.000 0.000 0.000 1.000 0.000 0.000]\n",
      " [0.000 0.000 0.053 0.000 0.000 0.947 0.000 0.000]\n",
      " [0.952 0.048 0.000 0.000 0.000 0.000 0.000 0.000]\n",
      " [0.000 0.000 0.000 0.000 1.000 0.000 0.000 0.000]\n",
      " [0.000 0.000 0.000 0.000 1.000 0.000 0.000 0.000]\n",
      " [0.000 0.000 0.242 0.000 0.000 0.758 0.000 0.000]\n",
      " [0.000 0.000 0.000 0.000 1.000 0.000 0.000 0.000]\n",
      " [0.000 0.000 0.000 0.000 0.992 0.008 0.000 0.000]\n",
      " [0.000 0.000 0.912 0.000 0.000 0.088 0.000 0.000]\n",
      " [0.000 0.000 0.000 0.000 0.000 0.000 0.000 1.000]\n",
      " [0.000 1.000 0.000 0.000 0.000 0.000 0.000 0.000]\n",
      " [0.000 1.000 0.000 0.000 0.000 0.000 0.000 0.000]\n",
      " [0.000 0.000 0.000 0.000 0.000 0.000 0.052 0.948]\n",
      " [0.000 0.000 0.000 0.000 0.000 0.000 0.998 0.002]\n",
      " [0.000 0.000 0.000 0.000 0.000 0.000 1.000 0.000]\n",
      " [0.000 0.000 0.000 0.000 1.000 0.000 0.000 0.000]\n",
      " [0.000 0.000 0.000 0.000 0.000 0.000 0.000 1.000]\n",
      " [0.000 0.000 0.000 0.000 0.000 0.000 0.000 1.000]\n",
      " [0.000 0.000 1.000 0.000 0.000 0.000 0.000 0.000]\n",
      " [0.000 0.000 0.000 0.000 0.000 0.000 0.000 1.000]\n",
      " [0.000 0.000 0.000 0.000 0.000 1.000 0.000 0.000]\n",
      " [0.001 0.999 0.000 0.000 0.000 0.000 0.000 0.000]\n",
      " [0.000 0.000 0.000 0.000 1.000 0.000 0.000 0.000]\n",
      " [0.000 0.000 0.000 1.000 0.000 0.000 0.000 0.000]\n",
      " [0.000 0.000 0.000 0.000 0.000 0.000 0.000 1.000]\n",
      " [0.000 0.000 0.000 0.516 0.000 0.000 0.000 0.484]\n",
      " [0.000 0.000 0.000 0.000 0.000 1.000 0.000 0.000]\n",
      " [1.000 0.000 0.000 0.000 0.000 0.000 0.000 0.000]\n",
      " [0.000 0.000 1.000 0.000 0.000 0.000 0.000 0.000]\n",
      " [0.000 0.000 0.069 0.000 0.000 0.931 0.000 0.000]\n",
      " [0.000 0.000 1.000 0.000 0.000 0.000 0.000 0.000]\n",
      " [0.000 0.000 0.000 0.000 0.000 0.000 1.000 0.000]\n",
      " [0.000 0.000 1.000 0.000 0.000 0.000 0.000 0.000]\n",
      " [0.000 0.000 0.000 0.000 1.000 0.000 0.000 0.000]\n",
      " [1.000 0.000 0.000 0.000 0.000 0.000 0.000 0.000]\n",
      " [0.000 0.000 0.000 0.000 0.000 0.000 0.000 1.000]]\n"
     ]
    }
   ],
   "source": [
    "# 모델 예측하기\n",
    "print(\"-- Predict --\")\n",
    "\n",
    "prediction = model.predict_generator(\n",
    "            test_generator, \n",
    "            steps = 5)\n",
    "\n",
    "np.set_printoptions(formatter={'float': lambda x: \"{0:0.3f}\".format(x)})\n",
    "\n",
    "print(prediction)"
   ]
  },
  {
   "cell_type": "code",
   "execution_count": 14,
   "metadata": {},
   "outputs": [],
   "source": [
    "model.save('endoscope_model_ver.95.31.h5')"
   ]
  },
  {
   "cell_type": "code",
   "execution_count": null,
   "metadata": {},
   "outputs": [],
   "source": []
  }
 ],
 "metadata": {
  "kernelspec": {
   "display_name": "Python 3",
   "language": "python",
   "name": "python3"
  },
  "language_info": {
   "codemirror_mode": {
    "name": "ipython",
    "version": 3
   },
   "file_extension": ".py",
   "mimetype": "text/x-python",
   "name": "python",
   "nbconvert_exporter": "python",
   "pygments_lexer": "ipython3",
   "version": "3.7.4"
  }
 },
 "nbformat": 4,
 "nbformat_minor": 2
}
