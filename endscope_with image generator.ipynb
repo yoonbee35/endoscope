{
 "cells": [
  {
   "cell_type": "code",
   "execution_count": 1,
   "metadata": {},
   "outputs": [
    {
     "name": "stderr",
     "output_type": "stream",
     "text": [
      "Using TensorFlow backend.\n"
     ]
    }
   ],
   "source": [
    "import numpy as np\n",
    "np.random.seed(3)\n",
    "from keras.preprocessing.image import ImageDataGenerator"
   ]
  },
  {
   "cell_type": "code",
   "execution_count": 22,
   "metadata": {},
   "outputs": [
    {
     "name": "stdout",
     "output_type": "stream",
     "text": [
      "Found 6400 images belonging to 8 classes.\n",
      "Found 1600 images belonging to 8 classes.\n"
     ]
    }
   ],
   "source": [
    "train_datagen = ImageDataGenerator(rescale=1./255, \n",
    "                                   rotation_range=20,\n",
    "                                   width_shift_range=0.01,\n",
    "                                   height_shift_range=0.01,\n",
    "                                   shear_range=0.3,\n",
    "                                   zoom_range=0.2,\n",
    "                                   horizontal_flip=True,\n",
    "                                   vertical_flip=True,\n",
    "                                   fill_mode='nearest')\n",
    "\n",
    "train_generator = train_datagen.flow_from_directory(\n",
    "        'C:/Users/Owner2/Desktop/deep/train',\n",
    "        target_size=(150, 150),\n",
    "        batch_size=10,\n",
    "        class_mode='categorical')\n",
    "\n",
    "test_datagen = ImageDataGenerator(rescale=1./255)\n",
    "\n",
    "test_generator = test_datagen.flow_from_directory(\n",
    "        'C:/Users/Owner2/Desktop/deep/test',\n",
    "        target_size=(150, 150),    \n",
    "        batch_size=10,\n",
    "        class_mode='categorical')\n",
    "\n",
    "from keras.models import Sequential\n",
    "from keras.layers import Dense\n",
    "from keras.layers import Flatten\n",
    "from keras.layers.convolutional import Conv2D\n",
    "from keras.layers.convolutional import MaxPooling2D"
   ]
  },
  {
   "cell_type": "code",
   "execution_count": 23,
   "metadata": {},
   "outputs": [
    {
     "name": "stdout",
     "output_type": "stream",
     "text": [
      "_________________________________________________________________\n",
      "Layer (type)                 Output Shape              Param #   \n",
      "=================================================================\n",
      "conv2d_23 (Conv2D)           (None, 148, 148, 32)      896       \n",
      "_________________________________________________________________\n",
      "max_pooling2d_20 (MaxPooling (None, 74, 74, 32)        0         \n",
      "_________________________________________________________________\n",
      "conv2d_24 (Conv2D)           (None, 72, 72, 64)        18496     \n",
      "_________________________________________________________________\n",
      "max_pooling2d_21 (MaxPooling (None, 36, 36, 64)        0         \n",
      "_________________________________________________________________\n",
      "conv2d_25 (Conv2D)           (None, 34, 34, 128)       73856     \n",
      "_________________________________________________________________\n",
      "max_pooling2d_22 (MaxPooling (None, 17, 17, 128)       0         \n",
      "_________________________________________________________________\n",
      "conv2d_26 (Conv2D)           (None, 15, 15, 128)       147584    \n",
      "_________________________________________________________________\n",
      "max_pooling2d_23 (MaxPooling (None, 7, 7, 128)         0         \n",
      "_________________________________________________________________\n",
      "flatten_8 (Flatten)          (None, 6272)              0         \n",
      "_________________________________________________________________\n",
      "dense_15 (Dense)             (None, 512)               3211776   \n",
      "_________________________________________________________________\n",
      "dense_16 (Dense)             (None, 8)                 4104      \n",
      "=================================================================\n",
      "Total params: 3,456,712\n",
      "Trainable params: 3,456,712\n",
      "Non-trainable params: 0\n",
      "_________________________________________________________________\n"
     ]
    }
   ],
   "source": [
    "from keras import layers\n",
    "from keras import models\n",
    "from keras import optimizers\n",
    "\n",
    "# 모델 구성하기\n",
    "\n",
    "model = models.Sequential()\n",
    "model.add(layers.Conv2D(32, (3, 3), activation='relu',\n",
    "                        input_shape=(150, 150, 3)))\n",
    "model.add(layers.MaxPooling2D((2, 2)))\n",
    "model.add(layers.Conv2D(64, (3, 3), activation='relu'))\n",
    "model.add(layers.MaxPooling2D((2, 2)))\n",
    "model.add(layers.Conv2D(128, (3, 3), activation='relu'))\n",
    "model.add(layers.MaxPooling2D((2, 2)))\n",
    "model.add(layers.Conv2D(128, (3, 3), activation='relu'))\n",
    "model.add(layers.MaxPooling2D((2, 2)))\n",
    "model.add(layers.Flatten())\n",
    "model.add(layers.Dense(512, activation='relu'))\n",
    "model.add(layers.Dense(8, activation='sigmoid'))\n",
    "\n",
    "#layer가 너무 깊으면 무의미해질 수 있음\n",
    "#학습이 쌓이지는 않음\n",
    "#kernal 개수 = epoch\n",
    "\n",
    "model.summary()"
   ]
  },
  {
   "cell_type": "code",
   "execution_count": 24,
   "metadata": {},
   "outputs": [],
   "source": [
    "model.compile(loss='categorical_crossentropy', optimizer='adam', metrics=['accuracy'])"
   ]
  },
  {
   "cell_type": "code",
   "execution_count": 25,
   "metadata": {},
   "outputs": [
    {
     "name": "stdout",
     "output_type": "stream",
     "text": [
      "Epoch 1/30\n",
      "100/100 [==============================] - 25s 247ms/step - loss: 1.5282 - acc: 0.3090 - val_loss: 1.2163 - val_acc: 0.4220\n",
      "Epoch 2/30\n",
      "100/100 [==============================] - 22s 222ms/step - loss: 1.1600 - acc: 0.3980 - val_loss: 1.0745 - val_acc: 0.3700\n",
      "Epoch 3/30\n",
      "100/100 [==============================] - 22s 219ms/step - loss: 1.1080 - acc: 0.3800 - val_loss: 1.0564 - val_acc: 0.3680\n",
      "Epoch 4/30\n",
      "100/100 [==============================] - 22s 221ms/step - loss: 1.0672 - acc: 0.3820 - val_loss: 1.0118 - val_acc: 0.3440\n",
      "Epoch 5/30\n",
      "100/100 [==============================] - 23s 228ms/step - loss: 1.0782 - acc: 0.3970 - val_loss: 1.0104 - val_acc: 0.4560\n",
      "Epoch 6/30\n",
      "100/100 [==============================] - 22s 224ms/step - loss: 1.1144 - acc: 0.4210 - val_loss: 1.0504 - val_acc: 0.4080\n",
      "Epoch 7/30\n",
      "100/100 [==============================] - 22s 222ms/step - loss: 1.0713 - acc: 0.4230 - val_loss: 1.0233 - val_acc: 0.4960\n",
      "Epoch 8/30\n",
      "100/100 [==============================] - 22s 223ms/step - loss: 1.0457 - acc: 0.4620 - val_loss: 1.0969 - val_acc: 0.4720\n",
      "Epoch 9/30\n",
      "100/100 [==============================] - 23s 226ms/step - loss: 0.9866 - acc: 0.5080 - val_loss: 0.9685 - val_acc: 0.4600\n",
      "Epoch 10/30\n",
      "100/100 [==============================] - 23s 228ms/step - loss: 0.9361 - acc: 0.5220 - val_loss: 0.9458 - val_acc: 0.5460\n",
      "Epoch 11/30\n",
      "100/100 [==============================] - 22s 216ms/step - loss: 0.8964 - acc: 0.5620 - val_loss: 0.8431 - val_acc: 0.5320\n",
      "Epoch 12/30\n",
      "100/100 [==============================] - 21s 215ms/step - loss: 0.8086 - acc: 0.6120 - val_loss: 1.0167 - val_acc: 0.5560\n",
      "Epoch 13/30\n",
      "100/100 [==============================] - 20s 205ms/step - loss: 0.8656 - acc: 0.5600 - val_loss: 0.7781 - val_acc: 0.6140\n",
      "Epoch 14/30\n",
      "100/100 [==============================] - 21s 207ms/step - loss: 0.8684 - acc: 0.5490 - val_loss: 0.8753 - val_acc: 0.5460\n",
      "Epoch 15/30\n",
      "100/100 [==============================] - 22s 215ms/step - loss: 0.8186 - acc: 0.5590 - val_loss: 0.8314 - val_acc: 0.5400\n",
      "Epoch 16/30\n",
      "100/100 [==============================] - 21s 208ms/step - loss: 0.8218 - acc: 0.5830 - val_loss: 0.7477 - val_acc: 0.5920\n",
      "Epoch 17/30\n",
      "100/100 [==============================] - 21s 206ms/step - loss: 0.8399 - acc: 0.5790 - val_loss: 0.9115 - val_acc: 0.5300\n",
      "Epoch 18/30\n",
      "100/100 [==============================] - 21s 206ms/step - loss: 0.8005 - acc: 0.5830 - val_loss: 0.8517 - val_acc: 0.5960\n",
      "Epoch 19/30\n",
      "100/100 [==============================] - 21s 213ms/step - loss: 0.7766 - acc: 0.6370 - val_loss: 0.7946 - val_acc: 0.5960\n",
      "Epoch 20/30\n",
      "100/100 [==============================] - 21s 207ms/step - loss: 0.7475 - acc: 0.6180 - val_loss: 0.7370 - val_acc: 0.6500\n",
      "Epoch 21/30\n",
      "100/100 [==============================] - 20s 205ms/step - loss: 0.7788 - acc: 0.5910 - val_loss: 0.7608 - val_acc: 0.5960\n",
      "Epoch 22/30\n",
      "100/100 [==============================] - 21s 210ms/step - loss: 0.7773 - acc: 0.6270 - val_loss: 0.8434 - val_acc: 0.6100\n",
      "Epoch 23/30\n",
      "100/100 [==============================] - 20s 203ms/step - loss: 0.7118 - acc: 0.6340 - val_loss: 0.8312 - val_acc: 0.6000\n",
      "Epoch 24/30\n",
      "100/100 [==============================] - 21s 209ms/step - loss: 0.7806 - acc: 0.6310 - val_loss: 0.7280 - val_acc: 0.6300\n",
      "Epoch 25/30\n",
      "100/100 [==============================] - 21s 207ms/step - loss: 0.7360 - acc: 0.6220 - val_loss: 0.7132 - val_acc: 0.6260\n",
      "Epoch 26/30\n",
      "100/100 [==============================] - 21s 209ms/step - loss: 0.7313 - acc: 0.6110 - val_loss: 0.7040 - val_acc: 0.6460\n",
      "Epoch 27/30\n",
      "100/100 [==============================] - 21s 208ms/step - loss: 0.7599 - acc: 0.6240 - val_loss: 0.7096 - val_acc: 0.5860\n",
      "Epoch 28/30\n",
      "100/100 [==============================] - 21s 207ms/step - loss: 0.7087 - acc: 0.6050 - val_loss: 0.7912 - val_acc: 0.6040\n",
      "Epoch 29/30\n",
      "100/100 [==============================] - 20s 203ms/step - loss: 0.6882 - acc: 0.6460 - val_loss: 0.7504 - val_acc: 0.6280\n",
      "Epoch 30/30\n",
      "100/100 [==============================] - 21s 212ms/step - loss: 0.7224 - acc: 0.6370 - val_loss: 0.7522 - val_acc: 0.6400\n"
     ]
    }
   ],
   "source": [
    "# 모델 학습시키기\n",
    "history = model.fit_generator(\n",
    "      train_generator,\n",
    "      steps_per_epoch=100,\n",
    "      epochs=30, #적당히 (loss function그래프 -> early stopping)\n",
    "      validation_data=test_generator,\n",
    "      validation_steps=50)"
   ]
  },
  {
   "cell_type": "code",
   "execution_count": 26,
   "metadata": {},
   "outputs": [
    {
     "name": "stdout",
     "output_type": "stream",
     "text": [
      "-- Evaluate --\n",
      "acc: 56.00%\n"
     ]
    }
   ],
   "source": [
    "# 모델 평가하기\n",
    "print(\"-- Evaluate --\")\n",
    "\n",
    "scores = model.evaluate_generator(\n",
    "            test_generator, \n",
    "            steps = 5)\n",
    "\n",
    "print(\"%s: %.2f%%\" %(model.metrics_names[1], scores[1]*100))"
   ]
  },
  {
   "cell_type": "code",
   "execution_count": null,
   "metadata": {},
   "outputs": [],
   "source": []
  }
 ],
 "metadata": {
  "kernelspec": {
   "display_name": "Python 3",
   "language": "python",
   "name": "python3"
  },
  "language_info": {
   "codemirror_mode": {
    "name": "ipython",
    "version": 3
   },
   "file_extension": ".py",
   "mimetype": "text/x-python",
   "name": "python",
   "nbconvert_exporter": "python",
   "pygments_lexer": "ipython3",
   "version": "3.7.4"
  }
 },
 "nbformat": 4,
 "nbformat_minor": 2
}
